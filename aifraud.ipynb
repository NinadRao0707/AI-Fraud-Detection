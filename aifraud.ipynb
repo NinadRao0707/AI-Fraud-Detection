{
 "cells": [
  {
   "cell_type": "code",
   "execution_count": 1,
   "source": [
    "import numpy as np\r\n",
    "import pandas as pd\r\n",
    "import scipy as sc\r\n",
    "import matplotlib.pyplot as plt"
   ],
   "outputs": [],
   "metadata": {}
  },
  {
   "cell_type": "markdown",
   "source": [
    "Numpy is a python package which is used for scientific computing. It provides support for large multi-dimensional arrays and matrices. Pandas is python library used for data manipulation and analysis"
   ],
   "metadata": {}
  },
  {
   "cell_type": "code",
   "execution_count": 2,
   "source": [
    "og_data = pd.read_csv(\"fraud_dataset.csv\",sep=',')\r\n",
    "og_data.head(20)"
   ],
   "outputs": [
    {
     "output_type": "execute_result",
     "data": {
      "text/html": [
       "<div>\n",
       "<style scoped>\n",
       "    .dataframe tbody tr th:only-of-type {\n",
       "        vertical-align: middle;\n",
       "    }\n",
       "\n",
       "    .dataframe tbody tr th {\n",
       "        vertical-align: top;\n",
       "    }\n",
       "\n",
       "    .dataframe thead th {\n",
       "        text-align: right;\n",
       "    }\n",
       "</style>\n",
       "<table border=\"1\" class=\"dataframe\">\n",
       "  <thead>\n",
       "    <tr style=\"text-align: right;\">\n",
       "      <th></th>\n",
       "      <th>step</th>\n",
       "      <th>type</th>\n",
       "      <th>amount</th>\n",
       "      <th>nameOrig</th>\n",
       "      <th>oldbalanceOrg</th>\n",
       "      <th>newbalanceOrig</th>\n",
       "      <th>nameDest</th>\n",
       "      <th>oldbalanceDest</th>\n",
       "      <th>newbalanceDest</th>\n",
       "      <th>isFraud</th>\n",
       "      <th>isFlaggedFraud</th>\n",
       "    </tr>\n",
       "  </thead>\n",
       "  <tbody>\n",
       "    <tr>\n",
       "      <th>0</th>\n",
       "      <td>1</td>\n",
       "      <td>PAYMENT</td>\n",
       "      <td>9839.64</td>\n",
       "      <td>C1231006815</td>\n",
       "      <td>170136.00</td>\n",
       "      <td>160296.36</td>\n",
       "      <td>M1979787155</td>\n",
       "      <td>0.0</td>\n",
       "      <td>0.00</td>\n",
       "      <td>0</td>\n",
       "      <td>0</td>\n",
       "    </tr>\n",
       "    <tr>\n",
       "      <th>1</th>\n",
       "      <td>1</td>\n",
       "      <td>PAYMENT</td>\n",
       "      <td>1864.28</td>\n",
       "      <td>C1666544295</td>\n",
       "      <td>21249.00</td>\n",
       "      <td>19384.72</td>\n",
       "      <td>M2044282225</td>\n",
       "      <td>0.0</td>\n",
       "      <td>0.00</td>\n",
       "      <td>0</td>\n",
       "      <td>0</td>\n",
       "    </tr>\n",
       "    <tr>\n",
       "      <th>2</th>\n",
       "      <td>1</td>\n",
       "      <td>TRANSFER</td>\n",
       "      <td>181.00</td>\n",
       "      <td>C1305486145</td>\n",
       "      <td>181.00</td>\n",
       "      <td>0.00</td>\n",
       "      <td>C553264065</td>\n",
       "      <td>0.0</td>\n",
       "      <td>0.00</td>\n",
       "      <td>1</td>\n",
       "      <td>0</td>\n",
       "    </tr>\n",
       "    <tr>\n",
       "      <th>3</th>\n",
       "      <td>1</td>\n",
       "      <td>CASH_OUT</td>\n",
       "      <td>181.00</td>\n",
       "      <td>C840083671</td>\n",
       "      <td>181.00</td>\n",
       "      <td>0.00</td>\n",
       "      <td>C38997010</td>\n",
       "      <td>21182.0</td>\n",
       "      <td>0.00</td>\n",
       "      <td>1</td>\n",
       "      <td>0</td>\n",
       "    </tr>\n",
       "    <tr>\n",
       "      <th>4</th>\n",
       "      <td>1</td>\n",
       "      <td>PAYMENT</td>\n",
       "      <td>11668.14</td>\n",
       "      <td>C2048537720</td>\n",
       "      <td>41554.00</td>\n",
       "      <td>29885.86</td>\n",
       "      <td>M1230701703</td>\n",
       "      <td>0.0</td>\n",
       "      <td>0.00</td>\n",
       "      <td>0</td>\n",
       "      <td>0</td>\n",
       "    </tr>\n",
       "    <tr>\n",
       "      <th>5</th>\n",
       "      <td>1</td>\n",
       "      <td>PAYMENT</td>\n",
       "      <td>7817.71</td>\n",
       "      <td>C90045638</td>\n",
       "      <td>53860.00</td>\n",
       "      <td>46042.29</td>\n",
       "      <td>M573487274</td>\n",
       "      <td>0.0</td>\n",
       "      <td>0.00</td>\n",
       "      <td>0</td>\n",
       "      <td>0</td>\n",
       "    </tr>\n",
       "    <tr>\n",
       "      <th>6</th>\n",
       "      <td>1</td>\n",
       "      <td>PAYMENT</td>\n",
       "      <td>7107.77</td>\n",
       "      <td>C154988899</td>\n",
       "      <td>183195.00</td>\n",
       "      <td>176087.23</td>\n",
       "      <td>M408069119</td>\n",
       "      <td>0.0</td>\n",
       "      <td>0.00</td>\n",
       "      <td>0</td>\n",
       "      <td>0</td>\n",
       "    </tr>\n",
       "    <tr>\n",
       "      <th>7</th>\n",
       "      <td>1</td>\n",
       "      <td>PAYMENT</td>\n",
       "      <td>7861.64</td>\n",
       "      <td>C1912850431</td>\n",
       "      <td>176087.23</td>\n",
       "      <td>168225.59</td>\n",
       "      <td>M633326333</td>\n",
       "      <td>0.0</td>\n",
       "      <td>0.00</td>\n",
       "      <td>0</td>\n",
       "      <td>0</td>\n",
       "    </tr>\n",
       "    <tr>\n",
       "      <th>8</th>\n",
       "      <td>1</td>\n",
       "      <td>PAYMENT</td>\n",
       "      <td>4024.36</td>\n",
       "      <td>C1265012928</td>\n",
       "      <td>2671.00</td>\n",
       "      <td>0.00</td>\n",
       "      <td>M1176932104</td>\n",
       "      <td>0.0</td>\n",
       "      <td>0.00</td>\n",
       "      <td>0</td>\n",
       "      <td>0</td>\n",
       "    </tr>\n",
       "    <tr>\n",
       "      <th>9</th>\n",
       "      <td>1</td>\n",
       "      <td>DEBIT</td>\n",
       "      <td>5337.77</td>\n",
       "      <td>C712410124</td>\n",
       "      <td>41720.00</td>\n",
       "      <td>36382.23</td>\n",
       "      <td>C195600860</td>\n",
       "      <td>41898.0</td>\n",
       "      <td>40348.79</td>\n",
       "      <td>0</td>\n",
       "      <td>0</td>\n",
       "    </tr>\n",
       "    <tr>\n",
       "      <th>10</th>\n",
       "      <td>1</td>\n",
       "      <td>DEBIT</td>\n",
       "      <td>9644.94</td>\n",
       "      <td>C1900366749</td>\n",
       "      <td>4465.00</td>\n",
       "      <td>0.00</td>\n",
       "      <td>C997608398</td>\n",
       "      <td>10845.0</td>\n",
       "      <td>157982.12</td>\n",
       "      <td>0</td>\n",
       "      <td>0</td>\n",
       "    </tr>\n",
       "    <tr>\n",
       "      <th>11</th>\n",
       "      <td>1</td>\n",
       "      <td>PAYMENT</td>\n",
       "      <td>3099.97</td>\n",
       "      <td>C249177573</td>\n",
       "      <td>20771.00</td>\n",
       "      <td>17671.03</td>\n",
       "      <td>M2096539129</td>\n",
       "      <td>0.0</td>\n",
       "      <td>0.00</td>\n",
       "      <td>0</td>\n",
       "      <td>0</td>\n",
       "    </tr>\n",
       "    <tr>\n",
       "      <th>12</th>\n",
       "      <td>1</td>\n",
       "      <td>PAYMENT</td>\n",
       "      <td>2560.74</td>\n",
       "      <td>C1648232591</td>\n",
       "      <td>5070.00</td>\n",
       "      <td>2509.26</td>\n",
       "      <td>M972865270</td>\n",
       "      <td>0.0</td>\n",
       "      <td>0.00</td>\n",
       "      <td>0</td>\n",
       "      <td>0</td>\n",
       "    </tr>\n",
       "    <tr>\n",
       "      <th>13</th>\n",
       "      <td>1</td>\n",
       "      <td>PAYMENT</td>\n",
       "      <td>11633.76</td>\n",
       "      <td>C1716932897</td>\n",
       "      <td>10127.00</td>\n",
       "      <td>0.00</td>\n",
       "      <td>M801569151</td>\n",
       "      <td>0.0</td>\n",
       "      <td>0.00</td>\n",
       "      <td>0</td>\n",
       "      <td>0</td>\n",
       "    </tr>\n",
       "    <tr>\n",
       "      <th>14</th>\n",
       "      <td>1</td>\n",
       "      <td>PAYMENT</td>\n",
       "      <td>4098.78</td>\n",
       "      <td>C1026483832</td>\n",
       "      <td>503264.00</td>\n",
       "      <td>499165.22</td>\n",
       "      <td>M1635378213</td>\n",
       "      <td>0.0</td>\n",
       "      <td>0.00</td>\n",
       "      <td>0</td>\n",
       "      <td>0</td>\n",
       "    </tr>\n",
       "    <tr>\n",
       "      <th>15</th>\n",
       "      <td>1</td>\n",
       "      <td>CASH_OUT</td>\n",
       "      <td>229133.94</td>\n",
       "      <td>C905080434</td>\n",
       "      <td>15325.00</td>\n",
       "      <td>0.00</td>\n",
       "      <td>C476402209</td>\n",
       "      <td>5083.0</td>\n",
       "      <td>51513.44</td>\n",
       "      <td>0</td>\n",
       "      <td>0</td>\n",
       "    </tr>\n",
       "    <tr>\n",
       "      <th>16</th>\n",
       "      <td>1</td>\n",
       "      <td>PAYMENT</td>\n",
       "      <td>1563.82</td>\n",
       "      <td>C761750706</td>\n",
       "      <td>450.00</td>\n",
       "      <td>0.00</td>\n",
       "      <td>M1731217984</td>\n",
       "      <td>0.0</td>\n",
       "      <td>0.00</td>\n",
       "      <td>0</td>\n",
       "      <td>0</td>\n",
       "    </tr>\n",
       "    <tr>\n",
       "      <th>17</th>\n",
       "      <td>1</td>\n",
       "      <td>PAYMENT</td>\n",
       "      <td>1157.86</td>\n",
       "      <td>C1237762639</td>\n",
       "      <td>21156.00</td>\n",
       "      <td>19998.14</td>\n",
       "      <td>M1877062907</td>\n",
       "      <td>0.0</td>\n",
       "      <td>0.00</td>\n",
       "      <td>0</td>\n",
       "      <td>0</td>\n",
       "    </tr>\n",
       "    <tr>\n",
       "      <th>18</th>\n",
       "      <td>1</td>\n",
       "      <td>PAYMENT</td>\n",
       "      <td>671.64</td>\n",
       "      <td>C2033524545</td>\n",
       "      <td>15123.00</td>\n",
       "      <td>14451.36</td>\n",
       "      <td>M473053293</td>\n",
       "      <td>0.0</td>\n",
       "      <td>0.00</td>\n",
       "      <td>0</td>\n",
       "      <td>0</td>\n",
       "    </tr>\n",
       "    <tr>\n",
       "      <th>19</th>\n",
       "      <td>1</td>\n",
       "      <td>TRANSFER</td>\n",
       "      <td>215310.30</td>\n",
       "      <td>C1670993182</td>\n",
       "      <td>705.00</td>\n",
       "      <td>0.00</td>\n",
       "      <td>C1100439041</td>\n",
       "      <td>22425.0</td>\n",
       "      <td>0.00</td>\n",
       "      <td>0</td>\n",
       "      <td>0</td>\n",
       "    </tr>\n",
       "  </tbody>\n",
       "</table>\n",
       "</div>"
      ],
      "text/plain": [
       "    step      type     amount     nameOrig  oldbalanceOrg  newbalanceOrig  \\\n",
       "0      1   PAYMENT    9839.64  C1231006815      170136.00       160296.36   \n",
       "1      1   PAYMENT    1864.28  C1666544295       21249.00        19384.72   \n",
       "2      1  TRANSFER     181.00  C1305486145         181.00            0.00   \n",
       "3      1  CASH_OUT     181.00   C840083671         181.00            0.00   \n",
       "4      1   PAYMENT   11668.14  C2048537720       41554.00        29885.86   \n",
       "5      1   PAYMENT    7817.71    C90045638       53860.00        46042.29   \n",
       "6      1   PAYMENT    7107.77   C154988899      183195.00       176087.23   \n",
       "7      1   PAYMENT    7861.64  C1912850431      176087.23       168225.59   \n",
       "8      1   PAYMENT    4024.36  C1265012928        2671.00            0.00   \n",
       "9      1     DEBIT    5337.77   C712410124       41720.00        36382.23   \n",
       "10     1     DEBIT    9644.94  C1900366749        4465.00            0.00   \n",
       "11     1   PAYMENT    3099.97   C249177573       20771.00        17671.03   \n",
       "12     1   PAYMENT    2560.74  C1648232591        5070.00         2509.26   \n",
       "13     1   PAYMENT   11633.76  C1716932897       10127.00            0.00   \n",
       "14     1   PAYMENT    4098.78  C1026483832      503264.00       499165.22   \n",
       "15     1  CASH_OUT  229133.94   C905080434       15325.00            0.00   \n",
       "16     1   PAYMENT    1563.82   C761750706         450.00            0.00   \n",
       "17     1   PAYMENT    1157.86  C1237762639       21156.00        19998.14   \n",
       "18     1   PAYMENT     671.64  C2033524545       15123.00        14451.36   \n",
       "19     1  TRANSFER  215310.30  C1670993182         705.00            0.00   \n",
       "\n",
       "       nameDest  oldbalanceDest  newbalanceDest  isFraud  isFlaggedFraud  \n",
       "0   M1979787155             0.0            0.00        0               0  \n",
       "1   M2044282225             0.0            0.00        0               0  \n",
       "2    C553264065             0.0            0.00        1               0  \n",
       "3     C38997010         21182.0            0.00        1               0  \n",
       "4   M1230701703             0.0            0.00        0               0  \n",
       "5    M573487274             0.0            0.00        0               0  \n",
       "6    M408069119             0.0            0.00        0               0  \n",
       "7    M633326333             0.0            0.00        0               0  \n",
       "8   M1176932104             0.0            0.00        0               0  \n",
       "9    C195600860         41898.0        40348.79        0               0  \n",
       "10   C997608398         10845.0       157982.12        0               0  \n",
       "11  M2096539129             0.0            0.00        0               0  \n",
       "12   M972865270             0.0            0.00        0               0  \n",
       "13   M801569151             0.0            0.00        0               0  \n",
       "14  M1635378213             0.0            0.00        0               0  \n",
       "15   C476402209          5083.0        51513.44        0               0  \n",
       "16  M1731217984             0.0            0.00        0               0  \n",
       "17  M1877062907             0.0            0.00        0               0  \n",
       "18   M473053293             0.0            0.00        0               0  \n",
       "19  C1100439041         22425.0            0.00        0               0  "
      ]
     },
     "metadata": {},
     "execution_count": 2
    }
   ],
   "metadata": {}
  },
  {
   "cell_type": "markdown",
   "source": [
    "Read a comma-separated values (csv) file into DataFrame\r\n",
    "Get first 20 rows"
   ],
   "metadata": {}
  },
  {
   "cell_type": "code",
   "execution_count": 3,
   "source": [
    "og_data.describe()"
   ],
   "outputs": [
    {
     "output_type": "execute_result",
     "data": {
      "text/html": [
       "<div>\n",
       "<style scoped>\n",
       "    .dataframe tbody tr th:only-of-type {\n",
       "        vertical-align: middle;\n",
       "    }\n",
       "\n",
       "    .dataframe tbody tr th {\n",
       "        vertical-align: top;\n",
       "    }\n",
       "\n",
       "    .dataframe thead th {\n",
       "        text-align: right;\n",
       "    }\n",
       "</style>\n",
       "<table border=\"1\" class=\"dataframe\">\n",
       "  <thead>\n",
       "    <tr style=\"text-align: right;\">\n",
       "      <th></th>\n",
       "      <th>step</th>\n",
       "      <th>amount</th>\n",
       "      <th>oldbalanceOrg</th>\n",
       "      <th>newbalanceOrig</th>\n",
       "      <th>oldbalanceDest</th>\n",
       "      <th>newbalanceDest</th>\n",
       "      <th>isFraud</th>\n",
       "      <th>isFlaggedFraud</th>\n",
       "    </tr>\n",
       "  </thead>\n",
       "  <tbody>\n",
       "    <tr>\n",
       "      <th>count</th>\n",
       "      <td>6.362620e+06</td>\n",
       "      <td>6.362620e+06</td>\n",
       "      <td>6.362620e+06</td>\n",
       "      <td>6.362620e+06</td>\n",
       "      <td>6.362620e+06</td>\n",
       "      <td>6.362620e+06</td>\n",
       "      <td>6.362620e+06</td>\n",
       "      <td>6.362620e+06</td>\n",
       "    </tr>\n",
       "    <tr>\n",
       "      <th>mean</th>\n",
       "      <td>2.433972e+02</td>\n",
       "      <td>1.798619e+05</td>\n",
       "      <td>8.338831e+05</td>\n",
       "      <td>8.551137e+05</td>\n",
       "      <td>1.100702e+06</td>\n",
       "      <td>1.224996e+06</td>\n",
       "      <td>1.290820e-03</td>\n",
       "      <td>2.514687e-06</td>\n",
       "    </tr>\n",
       "    <tr>\n",
       "      <th>std</th>\n",
       "      <td>1.423320e+02</td>\n",
       "      <td>6.038582e+05</td>\n",
       "      <td>2.888243e+06</td>\n",
       "      <td>2.924049e+06</td>\n",
       "      <td>3.399180e+06</td>\n",
       "      <td>3.674129e+06</td>\n",
       "      <td>3.590480e-02</td>\n",
       "      <td>1.585775e-03</td>\n",
       "    </tr>\n",
       "    <tr>\n",
       "      <th>min</th>\n",
       "      <td>1.000000e+00</td>\n",
       "      <td>0.000000e+00</td>\n",
       "      <td>0.000000e+00</td>\n",
       "      <td>0.000000e+00</td>\n",
       "      <td>0.000000e+00</td>\n",
       "      <td>0.000000e+00</td>\n",
       "      <td>0.000000e+00</td>\n",
       "      <td>0.000000e+00</td>\n",
       "    </tr>\n",
       "    <tr>\n",
       "      <th>25%</th>\n",
       "      <td>1.560000e+02</td>\n",
       "      <td>1.338957e+04</td>\n",
       "      <td>0.000000e+00</td>\n",
       "      <td>0.000000e+00</td>\n",
       "      <td>0.000000e+00</td>\n",
       "      <td>0.000000e+00</td>\n",
       "      <td>0.000000e+00</td>\n",
       "      <td>0.000000e+00</td>\n",
       "    </tr>\n",
       "    <tr>\n",
       "      <th>50%</th>\n",
       "      <td>2.390000e+02</td>\n",
       "      <td>7.487194e+04</td>\n",
       "      <td>1.420800e+04</td>\n",
       "      <td>0.000000e+00</td>\n",
       "      <td>1.327057e+05</td>\n",
       "      <td>2.146614e+05</td>\n",
       "      <td>0.000000e+00</td>\n",
       "      <td>0.000000e+00</td>\n",
       "    </tr>\n",
       "    <tr>\n",
       "      <th>75%</th>\n",
       "      <td>3.350000e+02</td>\n",
       "      <td>2.087215e+05</td>\n",
       "      <td>1.073152e+05</td>\n",
       "      <td>1.442584e+05</td>\n",
       "      <td>9.430367e+05</td>\n",
       "      <td>1.111909e+06</td>\n",
       "      <td>0.000000e+00</td>\n",
       "      <td>0.000000e+00</td>\n",
       "    </tr>\n",
       "    <tr>\n",
       "      <th>max</th>\n",
       "      <td>7.430000e+02</td>\n",
       "      <td>9.244552e+07</td>\n",
       "      <td>5.958504e+07</td>\n",
       "      <td>4.958504e+07</td>\n",
       "      <td>3.560159e+08</td>\n",
       "      <td>3.561793e+08</td>\n",
       "      <td>1.000000e+00</td>\n",
       "      <td>1.000000e+00</td>\n",
       "    </tr>\n",
       "  </tbody>\n",
       "</table>\n",
       "</div>"
      ],
      "text/plain": [
       "               step        amount  oldbalanceOrg  newbalanceOrig  \\\n",
       "count  6.362620e+06  6.362620e+06   6.362620e+06    6.362620e+06   \n",
       "mean   2.433972e+02  1.798619e+05   8.338831e+05    8.551137e+05   \n",
       "std    1.423320e+02  6.038582e+05   2.888243e+06    2.924049e+06   \n",
       "min    1.000000e+00  0.000000e+00   0.000000e+00    0.000000e+00   \n",
       "25%    1.560000e+02  1.338957e+04   0.000000e+00    0.000000e+00   \n",
       "50%    2.390000e+02  7.487194e+04   1.420800e+04    0.000000e+00   \n",
       "75%    3.350000e+02  2.087215e+05   1.073152e+05    1.442584e+05   \n",
       "max    7.430000e+02  9.244552e+07   5.958504e+07    4.958504e+07   \n",
       "\n",
       "       oldbalanceDest  newbalanceDest       isFraud  isFlaggedFraud  \n",
       "count    6.362620e+06    6.362620e+06  6.362620e+06    6.362620e+06  \n",
       "mean     1.100702e+06    1.224996e+06  1.290820e-03    2.514687e-06  \n",
       "std      3.399180e+06    3.674129e+06  3.590480e-02    1.585775e-03  \n",
       "min      0.000000e+00    0.000000e+00  0.000000e+00    0.000000e+00  \n",
       "25%      0.000000e+00    0.000000e+00  0.000000e+00    0.000000e+00  \n",
       "50%      1.327057e+05    2.146614e+05  0.000000e+00    0.000000e+00  \n",
       "75%      9.430367e+05    1.111909e+06  0.000000e+00    0.000000e+00  \n",
       "max      3.560159e+08    3.561793e+08  1.000000e+00    1.000000e+00  "
      ]
     },
     "metadata": {},
     "execution_count": 3
    }
   ],
   "metadata": {}
  },
  {
   "cell_type": "markdown",
   "source": [
    "To view basic statistical details"
   ],
   "metadata": {}
  },
  {
   "cell_type": "code",
   "execution_count": 4,
   "source": [
    "og_data.isnull().values.any()"
   ],
   "outputs": [
    {
     "output_type": "execute_result",
     "data": {
      "text/plain": [
       "False"
      ]
     },
     "metadata": {},
     "execution_count": 4
    }
   ],
   "metadata": {}
  },
  {
   "cell_type": "markdown",
   "source": [
    "Find any missing data in the dataframe"
   ],
   "metadata": {}
  },
  {
   "cell_type": "code",
   "execution_count": 5,
   "source": [
    "og_data.isnull().sum()"
   ],
   "outputs": [
    {
     "output_type": "execute_result",
     "data": {
      "text/plain": [
       "step              0\n",
       "type              0\n",
       "amount            0\n",
       "nameOrig          0\n",
       "oldbalanceOrg     0\n",
       "newbalanceOrig    0\n",
       "nameDest          0\n",
       "oldbalanceDest    0\n",
       "newbalanceDest    0\n",
       "isFraud           0\n",
       "isFlaggedFraud    0\n",
       "dtype: int64"
      ]
     },
     "metadata": {},
     "execution_count": 5
    }
   ],
   "metadata": {}
  },
  {
   "cell_type": "markdown",
   "source": [
    "Find any missing data in the dataframe"
   ],
   "metadata": {}
  },
  {
   "cell_type": "code",
   "execution_count": 6,
   "source": [
    "og_data.groupby(\"isFraud\")[[\"nameOrig\",\"nameDest\"]].describe()"
   ],
   "outputs": [
    {
     "output_type": "execute_result",
     "data": {
      "text/html": [
       "<div>\n",
       "<style scoped>\n",
       "    .dataframe tbody tr th:only-of-type {\n",
       "        vertical-align: middle;\n",
       "    }\n",
       "\n",
       "    .dataframe tbody tr th {\n",
       "        vertical-align: top;\n",
       "    }\n",
       "\n",
       "    .dataframe thead tr th {\n",
       "        text-align: left;\n",
       "    }\n",
       "\n",
       "    .dataframe thead tr:last-of-type th {\n",
       "        text-align: right;\n",
       "    }\n",
       "</style>\n",
       "<table border=\"1\" class=\"dataframe\">\n",
       "  <thead>\n",
       "    <tr>\n",
       "      <th></th>\n",
       "      <th colspan=\"4\" halign=\"left\">nameOrig</th>\n",
       "      <th colspan=\"4\" halign=\"left\">nameDest</th>\n",
       "    </tr>\n",
       "    <tr>\n",
       "      <th></th>\n",
       "      <th>count</th>\n",
       "      <th>unique</th>\n",
       "      <th>top</th>\n",
       "      <th>freq</th>\n",
       "      <th>count</th>\n",
       "      <th>unique</th>\n",
       "      <th>top</th>\n",
       "      <th>freq</th>\n",
       "    </tr>\n",
       "    <tr>\n",
       "      <th>isFraud</th>\n",
       "      <th></th>\n",
       "      <th></th>\n",
       "      <th></th>\n",
       "      <th></th>\n",
       "      <th></th>\n",
       "      <th></th>\n",
       "      <th></th>\n",
       "      <th></th>\n",
       "    </tr>\n",
       "  </thead>\n",
       "  <tbody>\n",
       "    <tr>\n",
       "      <th>0</th>\n",
       "      <td>6354407</td>\n",
       "      <td>6345122</td>\n",
       "      <td>C1902386530</td>\n",
       "      <td>3</td>\n",
       "      <td>6354407</td>\n",
       "      <td>2719685</td>\n",
       "      <td>C1286084959</td>\n",
       "      <td>113</td>\n",
       "    </tr>\n",
       "    <tr>\n",
       "      <th>1</th>\n",
       "      <td>8213</td>\n",
       "      <td>8213</td>\n",
       "      <td>C1343549154</td>\n",
       "      <td>1</td>\n",
       "      <td>8213</td>\n",
       "      <td>8169</td>\n",
       "      <td>C185805228</td>\n",
       "      <td>2</td>\n",
       "    </tr>\n",
       "  </tbody>\n",
       "</table>\n",
       "</div>"
      ],
      "text/plain": [
       "        nameOrig                            nameDest                        \\\n",
       "           count   unique          top freq    count   unique          top   \n",
       "isFraud                                                                      \n",
       "0        6354407  6345122  C1902386530    3  6354407  2719685  C1286084959   \n",
       "1           8213     8213  C1343549154    1     8213     8169   C185805228   \n",
       "\n",
       "              \n",
       "        freq  \n",
       "isFraud       \n",
       "0        113  \n",
       "1          2  "
      ]
     },
     "metadata": {},
     "execution_count": 6
    }
   ],
   "metadata": {}
  },
  {
   "cell_type": "markdown",
   "source": [
    "To check the count of client names and destination names repetition"
   ],
   "metadata": {}
  },
  {
   "cell_type": "code",
   "execution_count": 7,
   "source": [
    "og_data.groupby(['type','isFraud']).step.count().unstack()"
   ],
   "outputs": [
    {
     "output_type": "execute_result",
     "data": {
      "text/html": [
       "<div>\n",
       "<style scoped>\n",
       "    .dataframe tbody tr th:only-of-type {\n",
       "        vertical-align: middle;\n",
       "    }\n",
       "\n",
       "    .dataframe tbody tr th {\n",
       "        vertical-align: top;\n",
       "    }\n",
       "\n",
       "    .dataframe thead th {\n",
       "        text-align: right;\n",
       "    }\n",
       "</style>\n",
       "<table border=\"1\" class=\"dataframe\">\n",
       "  <thead>\n",
       "    <tr style=\"text-align: right;\">\n",
       "      <th>isFraud</th>\n",
       "      <th>0</th>\n",
       "      <th>1</th>\n",
       "    </tr>\n",
       "    <tr>\n",
       "      <th>type</th>\n",
       "      <th></th>\n",
       "      <th></th>\n",
       "    </tr>\n",
       "  </thead>\n",
       "  <tbody>\n",
       "    <tr>\n",
       "      <th>CASH_IN</th>\n",
       "      <td>1399284.0</td>\n",
       "      <td>NaN</td>\n",
       "    </tr>\n",
       "    <tr>\n",
       "      <th>CASH_OUT</th>\n",
       "      <td>2233384.0</td>\n",
       "      <td>4116.0</td>\n",
       "    </tr>\n",
       "    <tr>\n",
       "      <th>DEBIT</th>\n",
       "      <td>41432.0</td>\n",
       "      <td>NaN</td>\n",
       "    </tr>\n",
       "    <tr>\n",
       "      <th>PAYMENT</th>\n",
       "      <td>2151495.0</td>\n",
       "      <td>NaN</td>\n",
       "    </tr>\n",
       "    <tr>\n",
       "      <th>TRANSFER</th>\n",
       "      <td>528812.0</td>\n",
       "      <td>4097.0</td>\n",
       "    </tr>\n",
       "  </tbody>\n",
       "</table>\n",
       "</div>"
      ],
      "text/plain": [
       "isFraud           0       1\n",
       "type                       \n",
       "CASH_IN   1399284.0     NaN\n",
       "CASH_OUT  2233384.0  4116.0\n",
       "DEBIT       41432.0     NaN\n",
       "PAYMENT   2151495.0     NaN\n",
       "TRANSFER   528812.0  4097.0"
      ]
     },
     "metadata": {},
     "execution_count": 7
    }
   ],
   "metadata": {}
  },
  {
   "cell_type": "markdown",
   "source": [
    "Find the count of fraud cases in the type of transaction"
   ],
   "metadata": {}
  },
  {
   "cell_type": "code",
   "execution_count": 8,
   "source": [
    "pd.crosstab(og_data.isFraud,og_data.isFlaggedFraud)"
   ],
   "outputs": [
    {
     "output_type": "execute_result",
     "data": {
      "text/html": [
       "<div>\n",
       "<style scoped>\n",
       "    .dataframe tbody tr th:only-of-type {\n",
       "        vertical-align: middle;\n",
       "    }\n",
       "\n",
       "    .dataframe tbody tr th {\n",
       "        vertical-align: top;\n",
       "    }\n",
       "\n",
       "    .dataframe thead th {\n",
       "        text-align: right;\n",
       "    }\n",
       "</style>\n",
       "<table border=\"1\" class=\"dataframe\">\n",
       "  <thead>\n",
       "    <tr style=\"text-align: right;\">\n",
       "      <th>isFlaggedFraud</th>\n",
       "      <th>0</th>\n",
       "      <th>1</th>\n",
       "    </tr>\n",
       "    <tr>\n",
       "      <th>isFraud</th>\n",
       "      <th></th>\n",
       "      <th></th>\n",
       "    </tr>\n",
       "  </thead>\n",
       "  <tbody>\n",
       "    <tr>\n",
       "      <th>0</th>\n",
       "      <td>6354407</td>\n",
       "      <td>0</td>\n",
       "    </tr>\n",
       "    <tr>\n",
       "      <th>1</th>\n",
       "      <td>8197</td>\n",
       "      <td>16</td>\n",
       "    </tr>\n",
       "  </tbody>\n",
       "</table>\n",
       "</div>"
      ],
      "text/plain": [
       "isFlaggedFraud        0   1\n",
       "isFraud                    \n",
       "0               6354407   0\n",
       "1                  8197  16"
      ]
     },
     "metadata": {},
     "execution_count": 8
    }
   ],
   "metadata": {}
  },
  {
   "cell_type": "markdown",
   "source": [
    "Find the relation between isFraud and isFlaggedFraud"
   ],
   "metadata": {}
  },
  {
   "cell_type": "code",
   "execution_count": 9,
   "source": [
    "explode = (0.05,0.05,0.05,0.05,0.05)\r\n",
    "plt.pie(og_data.type.value_counts(), labels=['CASH_OUT', 'PAYMENT', 'CASH_IN', 'TRANSFER', 'DEBIT'], autopct='%1.1f%%', startangle=90, pctdistance=0.85, explode = explode)\r\n",
    "centre_circle = plt.Circle((0,0),0.70,fc='white')\r\n",
    "fig = plt.gcf()\r\n",
    "fig.gca().add_artist(centre_circle) \r\n",
    "plt.tight_layout()\r\n",
    "plt.show()"
   ],
   "outputs": [
    {
     "output_type": "display_data",
     "data": {
      "image/png": "[encoded data removed]",
      "text/plain": [
       "<Figure size 432x288 with 1 Axes>"
      ]
     },
     "metadata": {}
    }
   ],
   "metadata": {}
  },
  {
   "cell_type": "markdown",
   "source": [
    "Pie chart for the number of transactions in each transactions type"
   ],
   "metadata": {}
  },
  {
   "cell_type": "code",
   "execution_count": 10,
   "source": [
    "axes = og_data.groupby(['type', 'isFraud']).size().plot(kind='barh')\r\n",
    "axes.set_xlabel(\"Transaction Type\")\r\n",
    "axes.set_ylabel(\"Number of transactions\")"
   ],
   "outputs": [
    {
     "output_type": "execute_result",
     "data": {
      "text/plain": [
       "Text(0, 0.5, 'Number of transactions')"
      ]
     },
     "metadata": {},
     "execution_count": 10
    },
    {
     "output_type": "display_data",
     "data": {
      "image/png": "[encoded data removed]",
      "text/plain": [
       "<Figure size 432x288 with 1 Axes>"
      ]
     },
     "metadata": {
      "needs_background": "light"
     }
    }
   ],
   "metadata": {}
  },
  {
   "cell_type": "markdown",
   "source": [
    "To show isFraud in every type of transaction"
   ],
   "metadata": {}
  },
  {
   "cell_type": "code",
   "execution_count": 11,
   "source": [
    "import lightgbm as lgb\r\n",
    "from sklearn.metrics import roc_auc_score\r\n",
    "from sklearn.metrics import f1_score\r\n",
    "from sklearn.model_selection import train_test_split\r\n",
    "import graphviz\r\n",
    "\r\n",
    "to_be_dropped=['isFlaggedFraud', 'nameDest', 'nameOrig', 'step', 'type']\r\n",
    "\r\n",
    "og_dummy = pd.get_dummies(og_data.loc[og_data.type.apply(lambda x: x in ['CASH_OUT','TRANSFER'])].drop(labels=to_be_dropped,axis=1))\r\n",
    "\r\n",
    "X_train, X_test, y_train, y_test = train_test_split(\r\n",
    "    og_dummy.drop('isFraud',axis=1), \r\n",
    "    og_dummy.isFraud, \r\n",
    "    test_size = 0.2, \r\n",
    "    random_state=2019, \r\n",
    "    shuffle=False\r\n",
    ")\r\n",
    "\r\n",
    "lgb_train = lgb.Dataset(X_train, y_train)\r\n",
    "lgb_eval  = lgb.Dataset(X_test, y_test, reference=lgb_train)\r\n",
    "\r\n",
    "# Specify configurations as dictionary\r\n",
    "params = {\r\n",
    "    'boosting_type': 'gbdt',\r\n",
    "    'objective': 'binary',\r\n",
    "    'metric': 'binary_logloss',\r\n",
    "    'num_leaves': 4,\r\n",
    "    'learning_rate': 0.05,\r\n",
    "    'feature_fraction': 0.9,\r\n",
    "    'bagging_fraction': 0.8,\r\n",
    "    'bagging_freq': 5,\r\n",
    "    'verbose': 1\r\n",
    "}\r\n",
    "\r\n",
    "gbm = lgb.train(params,\r\n",
    "            lgb_train,\r\n",
    "            num_boost_round=15,\r\n",
    "            valid_sets=[lgb_train,lgb_eval],\r\n",
    "            valid_names=['train', 'eval'])"
   ],
   "outputs": [
    {
     "output_type": "stream",
     "name": "stdout",
     "text": [
      "[LightGBM] [Info] Number of positive: 3953, number of negative: 2212374\n",
      "[LightGBM] [Warning] Auto-choosing row-wise multi-threading, the overhead of testing was 0.017572 seconds.\n",
      "You can set `force_row_wise=true` to remove the overhead.\n",
      "And if memory is not enough, you can set `force_col_wise=true`.\n",
      "[LightGBM] [Info] Total Bins 1275\n",
      "[LightGBM] [Info] Number of data points in the train set: 2216327, number of used features: 5\n",
      "[LightGBM] [Info] [binary:BoostFromScore]: pavg=0.001784 -> initscore=-6.327347\n",
      "[LightGBM] [Info] Start training from score -6.327347\n",
      "[1]\ttrain's binary_logloss: 0.00885215\teval's binary_logloss: 0.0281552\n",
      "[2]\ttrain's binary_logloss: 0.00827953\teval's binary_logloss: 0.0248972\n",
      "[3]\ttrain's binary_logloss: 0.00793779\teval's binary_logloss: 0.0235362\n",
      "[4]\ttrain's binary_logloss: 0.00772735\teval's binary_logloss: 0.0227279\n",
      "[5]\ttrain's binary_logloss: 0.00748632\teval's binary_logloss: 0.0218688\n",
      "[6]\ttrain's binary_logloss: 0.00730687\teval's binary_logloss: 0.021255\n",
      "[7]\ttrain's binary_logloss: 0.00714196\teval's binary_logloss: 0.0207936\n",
      "[8]\ttrain's binary_logloss: 0.0251876\teval's binary_logloss: 0.104482\n",
      "[9]\ttrain's binary_logloss: 0.00794458\teval's binary_logloss: 0.0208744\n",
      "[10]\ttrain's binary_logloss: 0.00793784\teval's binary_logloss: 0.0209196\n",
      "[11]\ttrain's binary_logloss: 0.00793186\teval's binary_logloss: 0.0209621\n",
      "[12]\ttrain's binary_logloss: 0.00792639\teval's binary_logloss: 0.0210034\n",
      "[13]\ttrain's binary_logloss: 0.00792137\teval's binary_logloss: 0.0210433\n",
      "[14]\ttrain's binary_logloss: 0.00791677\teval's binary_logloss: 0.021082\n",
      "[15]\ttrain's binary_logloss: 0.00791256\teval's binary_logloss: 0.0211195\n"
     ]
    }
   ],
   "metadata": {}
  },
  {
   "cell_type": "markdown",
   "source": [
    "Light GBM is a fast, distributed, high-performance gradient boosting framework based on a decision tree algorithm, used for ranking, classification and many other machine learning tasks.\r\n",
    "\r\n",
    "Since it is based on decision tree algorithms, it splits the tree leaf wise with the best fit whereas other boosting algorithms split the tree depth wise or level wise rather than leaf-wise. So when growing on the same leaf in Light GBM, the leaf-wise algorithm can reduce more loss than the level-wise algorithm and hence results in much better accuracy which can rarely be achieved by any of the existing boosting algorithms."
   ],
   "metadata": {}
  },
  {
   "cell_type": "code",
   "execution_count": 12,
   "source": [
    "axis = lgb.plot_importance(gbm, max_num_features=10)"
   ],
   "outputs": [
    {
     "output_type": "display_data",
     "data": {
      "image/png": "[encoded data removed]",
      "text/plain": [
       "<Figure size 432x288 with 1 Axes>"
      ]
     },
     "metadata": {
      "needs_background": "light"
     }
    }
   ],
   "metadata": {}
  },
  {
   "cell_type": "markdown",
   "source": [
    "Plots of feature importance graph with respect to all the types of transactions."
   ],
   "metadata": {}
  },
  {
   "cell_type": "code",
   "execution_count": 13,
   "source": [
    "lgb.create_tree_digraph(gbm,tree_index=0,precision=1,show_info=['leaf_count'])"
   ],
   "outputs": [
    {
     "output_type": "execute_result",
     "data": {
      "image/svg+xml": "<?xml version=\"1.0\" encoding=\"UTF-8\" standalone=\"no\"?>\r\n<!DOCTYPE svg PUBLIC \"-//W3C//DTD SVG 1.1//EN\"\r\n \"http://www.w3.org/Graphics/SVG/1.1/DTD/svg11.dtd\">\r\n<!-- Generated by graphviz version 2.49.0 (20210828.1703)\r\n -->\r\n<!-- Pages: 1 -->\r\n<svg width=\"581pt\" height=\"224pt\"\r\n viewBox=\"0.00 0.00 581.25 223.91\" xmlns=\"http://www.w3.org/2000/svg\" xmlns:xlink=\"http://www.w3.org/1999/xlink\">\r\n<g id=\"graph0\" class=\"graph\" transform=\"scale(1 1) rotate(0) translate(4 219.91)\">\r\n<polygon fill=\"white\" stroke=\"transparent\" points=\"-4,4 -4,-219.91 577.25,-219.91 577.25,4 -4,4\"/>\r\n<!-- split0 -->\r\n<g id=\"node1\" class=\"node\">\r\n<title>split0</title>\r\n<polygon fill=\"none\" stroke=\"black\" points=\"180,-125.46 0,-125.46 0,-89.46 180,-89.46 180,-125.46\"/>\r\n<text text-anchor=\"start\" x=\"8\" y=\"-104.76\" font-family=\"Times New Roman,serif\" font-weight=\"bold\" font-size=\"14.00\">oldbalanceOrg</text>\r\n<text text-anchor=\"start\" x=\"99\" y=\"-104.76\" font-family=\"Times New Roman,serif\" font-size=\"14.00\"> ≤ </text>\r\n<text text-anchor=\"start\" x=\"115\" y=\"-104.76\" font-family=\"Times New Roman,serif\" font-weight=\"bold\" font-size=\"14.00\">989898.3</text>\r\n</g>\r\n<!-- split2 -->\r\n<g id=\"node2\" class=\"node\">\r\n<title>split2</title>\r\n<polygon fill=\"none\" stroke=\"black\" points=\"380,-153.46 229,-153.46 229,-117.46 380,-117.46 380,-153.46\"/>\r\n<text text-anchor=\"start\" x=\"237\" y=\"-132.76\" font-family=\"Times New Roman,serif\" font-weight=\"bold\" font-size=\"14.00\">newbalanceDest</text>\r\n<text text-anchor=\"start\" x=\"337\" y=\"-132.76\" font-family=\"Times New Roman,serif\" font-size=\"14.00\"> ≤ </text>\r\n<text text-anchor=\"start\" x=\"353\" y=\"-132.76\" font-family=\"Times New Roman,serif\" font-weight=\"bold\" font-size=\"14.00\">0.0</text>\r\n</g>\r\n<!-- split0&#45;&gt;split2 -->\r\n<g id=\"edge3\" class=\"edge\">\r\n<title>split0&#45;&gt;split2</title>\r\n<path fill=\"none\" stroke=\"black\" d=\"M180.2,-119.21C193.01,-120.9 206.17,-122.63 218.89,-124.31\"/>\r\n<polygon fill=\"black\" stroke=\"black\" points=\"218.62,-127.8 228.99,-125.64 219.53,-120.86 218.62,-127.8\"/>\r\n<text text-anchor=\"middle\" x=\"200.5\" y=\"-126.26\" font-family=\"Times New Roman,serif\" font-size=\"14.00\">yes</text>\r\n</g>\r\n<!-- split1 -->\r\n<g id=\"node5\" class=\"node\">\r\n<title>split1</title>\r\n<polygon fill=\"none\" stroke=\"black\" points=\"388,-98.46 221,-98.46 221,-62.46 388,-62.46 388,-98.46\"/>\r\n<text text-anchor=\"start\" x=\"229\" y=\"-77.76\" font-family=\"Times New Roman,serif\" font-weight=\"bold\" font-size=\"14.00\">newbalanceOrig</text>\r\n<text text-anchor=\"start\" x=\"330\" y=\"-77.76\" font-family=\"Times New Roman,serif\" font-size=\"14.00\"> ≤ </text>\r\n<text text-anchor=\"start\" x=\"346\" y=\"-77.76\" font-family=\"Times New Roman,serif\" font-weight=\"bold\" font-size=\"14.00\">529.3</text>\r\n</g>\r\n<!-- split0&#45;&gt;split1 -->\r\n<g id=\"edge6\" class=\"edge\">\r\n<title>split0&#45;&gt;split1</title>\r\n<path fill=\"none\" stroke=\"black\" d=\"M180.2,-96.12C190.33,-94.83 200.68,-93.52 210.86,-92.23\"/>\r\n<polygon fill=\"black\" stroke=\"black\" points=\"211.49,-95.67 220.97,-90.94 210.61,-88.73 211.49,-95.67\"/>\r\n<text text-anchor=\"middle\" x=\"200.5\" y=\"-97.26\" font-family=\"Times New Roman,serif\" font-size=\"14.00\">no</text>\r\n</g>\r\n<!-- leaf0 -->\r\n<g id=\"node3\" class=\"node\">\r\n<title>leaf0</title>\r\n<ellipse fill=\"none\" stroke=\"black\" cx=\"501.12\" cy=\"-190.46\" rx=\"62.87\" ry=\"25.41\"/>\r\n<text text-anchor=\"start\" x=\"470.62\" y=\"-194.26\" font-family=\"Times New Roman,serif\" font-size=\"14.00\">leaf 0: </text>\r\n<text text-anchor=\"start\" x=\"507.62\" y=\"-194.26\" font-family=\"Times New Roman,serif\" font-weight=\"bold\" font-size=\"14.00\">&#45;3.5</text>\r\n<text text-anchor=\"start\" x=\"464.62\" y=\"-180.26\" font-family=\"Times New Roman,serif\" font-size=\"14.00\">count: 10590</text>\r\n</g>\r\n<!-- split2&#45;&gt;leaf0 -->\r\n<g id=\"edge1\" class=\"edge\">\r\n<title>split2&#45;&gt;leaf0</title>\r\n<path fill=\"none\" stroke=\"black\" d=\"M369.23,-153.46C391.82,-159.85 417.18,-167.02 439.51,-173.33\"/>\r\n<polygon fill=\"black\" stroke=\"black\" points=\"438.63,-176.71 449.2,-176.07 440.53,-169.98 438.63,-176.71\"/>\r\n<text text-anchor=\"middle\" x=\"408.5\" y=\"-169.26\" font-family=\"Times New Roman,serif\" font-size=\"14.00\">yes</text>\r\n</g>\r\n<!-- leaf3 -->\r\n<g id=\"node4\" class=\"node\">\r\n<title>leaf3</title>\r\n<ellipse fill=\"none\" stroke=\"black\" cx=\"501.12\" cy=\"-135.46\" rx=\"72.25\" ry=\"25.41\"/>\r\n<text text-anchor=\"start\" x=\"470.62\" y=\"-139.26\" font-family=\"Times New Roman,serif\" font-size=\"14.00\">leaf 3: </text>\r\n<text text-anchor=\"start\" x=\"507.62\" y=\"-139.26\" font-family=\"Times New Roman,serif\" font-weight=\"bold\" font-size=\"14.00\">&#45;6.4</text>\r\n<text text-anchor=\"start\" x=\"458.12\" y=\"-125.26\" font-family=\"Times New Roman,serif\" font-size=\"14.00\">count: 1759539</text>\r\n</g>\r\n<!-- split2&#45;&gt;leaf3 -->\r\n<g id=\"edge2\" class=\"edge\">\r\n<title>split2&#45;&gt;leaf3</title>\r\n<path fill=\"none\" stroke=\"black\" d=\"M380.19,-135.46C392.79,-135.46 405.93,-135.46 418.7,-135.46\"/>\r\n<polygon fill=\"black\" stroke=\"black\" points=\"418.84,-138.96 428.84,-135.46 418.84,-131.96 418.84,-138.96\"/>\r\n<text text-anchor=\"middle\" x=\"408.5\" y=\"-139.26\" font-family=\"Times New Roman,serif\" font-size=\"14.00\">no</text>\r\n</g>\r\n<!-- leaf1 -->\r\n<g id=\"node6\" class=\"node\">\r\n<title>leaf1</title>\r\n<ellipse fill=\"none\" stroke=\"black\" cx=\"501.12\" cy=\"-80.46\" rx=\"57.97\" ry=\"25.41\"/>\r\n<text text-anchor=\"start\" x=\"469.12\" y=\"-84.26\" font-family=\"Times New Roman,serif\" font-size=\"14.00\">leaf 1: </text>\r\n<text text-anchor=\"start\" x=\"506.12\" y=\"-84.26\" font-family=\"Times New Roman,serif\" font-weight=\"bold\" font-size=\"14.00\">19.8</text>\r\n<text text-anchor=\"start\" x=\"468.12\" y=\"-70.26\" font-family=\"Times New Roman,serif\" font-size=\"14.00\">count: 1032</text>\r\n</g>\r\n<!-- split1&#45;&gt;leaf1 -->\r\n<g id=\"edge4\" class=\"edge\">\r\n<title>split1&#45;&gt;leaf1</title>\r\n<path fill=\"none\" stroke=\"black\" d=\"M388.04,-80.46C402.96,-80.46 418.36,-80.46 432.78,-80.46\"/>\r\n<polygon fill=\"black\" stroke=\"black\" points=\"433.09,-83.96 443.09,-80.46 433.09,-76.96 433.09,-83.96\"/>\r\n<text text-anchor=\"middle\" x=\"408.5\" y=\"-84.26\" font-family=\"Times New Roman,serif\" font-size=\"14.00\">yes</text>\r\n</g>\r\n<!-- leaf2 -->\r\n<g id=\"node7\" class=\"node\">\r\n<title>leaf2</title>\r\n<ellipse fill=\"none\" stroke=\"black\" cx=\"501.12\" cy=\"-25.46\" rx=\"57.97\" ry=\"25.41\"/>\r\n<text text-anchor=\"start\" x=\"470.62\" y=\"-29.26\" font-family=\"Times New Roman,serif\" font-size=\"14.00\">leaf 2: </text>\r\n<text text-anchor=\"start\" x=\"507.62\" y=\"-29.26\" font-family=\"Times New Roman,serif\" font-weight=\"bold\" font-size=\"14.00\">&#45;5.9</text>\r\n<text text-anchor=\"start\" x=\"468.12\" y=\"-15.26\" font-family=\"Times New Roman,serif\" font-size=\"14.00\">count: 2729</text>\r\n</g>\r\n<!-- split1&#45;&gt;leaf2 -->\r\n<g id=\"edge5\" class=\"edge\">\r\n<title>split1&#45;&gt;leaf2</title>\r\n<path fill=\"none\" stroke=\"black\" d=\"M369.23,-62.45C392.8,-55.79 419.37,-48.28 442.38,-41.77\"/>\r\n<polygon fill=\"black\" stroke=\"black\" points=\"443.33,-45.14 452,-39.05 441.43,-38.41 443.33,-45.14\"/>\r\n<text text-anchor=\"middle\" x=\"408.5\" y=\"-56.26\" font-family=\"Times New Roman,serif\" font-size=\"14.00\">no</text>\r\n</g>\r\n</g>\r\n</svg>\r\n",
      "text/plain": [
       "<graphviz.dot.Digraph at 0x1973300fb80>"
      ]
     },
     "metadata": {},
     "execution_count": 13
    }
   ],
   "metadata": {}
  },
  {
   "cell_type": "markdown",
   "source": [
    "Create a digraph representation of the decision tree based on the old origin balance and new balance at origin and destination."
   ],
   "metadata": {}
  },
  {
   "cell_type": "code",
   "execution_count": 14,
   "source": [
    "lgb.create_tree_digraph(gbm,tree_index=1,precision=1,show_info=['leaf_count'])"
   ],
   "outputs": [
    {
     "output_type": "execute_result",
     "data": {
      "image/svg+xml": "<?xml version=\"1.0\" encoding=\"UTF-8\" standalone=\"no\"?>\r\n<!DOCTYPE svg PUBLIC \"-//W3C//DTD SVG 1.1//EN\"\r\n \"http://www.w3.org/Graphics/SVG/1.1/DTD/svg11.dtd\">\r\n<!-- Generated by graphviz version 2.49.0 (20210828.1703)\r\n -->\r\n<!-- Pages: 1 -->\r\n<svg width=\"731pt\" height=\"157pt\"\r\n viewBox=\"0.00 0.00 730.87 156.91\" xmlns=\"http://www.w3.org/2000/svg\" xmlns:xlink=\"http://www.w3.org/1999/xlink\">\r\n<g id=\"graph0\" class=\"graph\" transform=\"scale(1 1) rotate(0) translate(4 152.91)\">\r\n<polygon fill=\"white\" stroke=\"transparent\" points=\"-4,4 -4,-152.91 726.87,-152.91 726.87,4 -4,4\"/>\r\n<!-- split0 -->\r\n<g id=\"node1\" class=\"node\">\r\n<title>split0</title>\r\n<polygon fill=\"none\" stroke=\"black\" points=\"180,-118.46 0,-118.46 0,-82.46 180,-82.46 180,-118.46\"/>\r\n<text text-anchor=\"start\" x=\"8\" y=\"-97.76\" font-family=\"Times New Roman,serif\" font-weight=\"bold\" font-size=\"14.00\">oldbalanceOrg</text>\r\n<text text-anchor=\"start\" x=\"99\" y=\"-97.76\" font-family=\"Times New Roman,serif\" font-size=\"14.00\"> ≤ </text>\r\n<text text-anchor=\"start\" x=\"115\" y=\"-97.76\" font-family=\"Times New Roman,serif\" font-weight=\"bold\" font-size=\"14.00\">215788.4</text>\r\n</g>\r\n<!-- leaf0 -->\r\n<g id=\"node2\" class=\"node\">\r\n<title>leaf0</title>\r\n<ellipse fill=\"none\" stroke=\"black\" cx=\"297\" cy=\"-123.46\" rx=\"72.25\" ry=\"25.41\"/>\r\n<text text-anchor=\"start\" x=\"266.5\" y=\"-127.26\" font-family=\"Times New Roman,serif\" font-size=\"14.00\">leaf 0: </text>\r\n<text text-anchor=\"start\" x=\"303.5\" y=\"-127.26\" font-family=\"Times New Roman,serif\" font-weight=\"bold\" font-size=\"14.00\">&#45;0.0</text>\r\n<text text-anchor=\"start\" x=\"254\" y=\"-113.26\" font-family=\"Times New Roman,serif\" font-size=\"14.00\">count: 1678622</text>\r\n</g>\r\n<!-- split0&#45;&gt;leaf0 -->\r\n<g id=\"edge1\" class=\"edge\">\r\n<title>split0&#45;&gt;leaf0</title>\r\n<path fill=\"none\" stroke=\"black\" d=\"M180.02,-110.44C192.6,-111.85 205.45,-113.3 217.81,-114.68\"/>\r\n<polygon fill=\"black\" stroke=\"black\" points=\"217.72,-118.2 228.05,-115.83 218.5,-111.24 217.72,-118.2\"/>\r\n<text text-anchor=\"middle\" x=\"200.5\" y=\"-116.26\" font-family=\"Times New Roman,serif\" font-size=\"14.00\">yes</text>\r\n</g>\r\n<!-- split1 -->\r\n<g id=\"node3\" class=\"node\">\r\n<title>split1</title>\r\n<polygon fill=\"none\" stroke=\"black\" points=\"373,-94.46 221,-94.46 221,-58.46 373,-58.46 373,-94.46\"/>\r\n<text text-anchor=\"start\" x=\"229\" y=\"-73.76\" font-family=\"Times New Roman,serif\" font-weight=\"bold\" font-size=\"14.00\">newbalanceOrig</text>\r\n<text text-anchor=\"start\" x=\"330\" y=\"-73.76\" font-family=\"Times New Roman,serif\" font-size=\"14.00\"> ≤ </text>\r\n<text text-anchor=\"start\" x=\"346\" y=\"-73.76\" font-family=\"Times New Roman,serif\" font-weight=\"bold\" font-size=\"14.00\">0.0</text>\r\n</g>\r\n<!-- split0&#45;&gt;split1 -->\r\n<g id=\"edge6\" class=\"edge\">\r\n<title>split0&#45;&gt;split1</title>\r\n<path fill=\"none\" stroke=\"black\" d=\"M180.02,-90.03C190.23,-88.84 200.63,-87.62 210.78,-86.43\"/>\r\n<polygon fill=\"black\" stroke=\"black\" points=\"211.33,-89.89 220.85,-85.25 210.51,-82.94 211.33,-89.89\"/>\r\n<text text-anchor=\"middle\" x=\"200.5\" y=\"-92.26\" font-family=\"Times New Roman,serif\" font-size=\"14.00\">no</text>\r\n</g>\r\n<!-- leaf1 -->\r\n<g id=\"node4\" class=\"node\">\r\n<title>leaf1</title>\r\n<ellipse fill=\"none\" stroke=\"black\" cx=\"485\" cy=\"-99.46\" rx=\"62.87\" ry=\"25.41\"/>\r\n<text text-anchor=\"start\" x=\"457\" y=\"-103.26\" font-family=\"Times New Roman,serif\" font-size=\"14.00\">leaf 1: </text>\r\n<text text-anchor=\"start\" x=\"494\" y=\"-103.26\" font-family=\"Times New Roman,serif\" font-weight=\"bold\" font-size=\"14.00\">0.9</text>\r\n<text text-anchor=\"start\" x=\"448.5\" y=\"-89.26\" font-family=\"Times New Roman,serif\" font-size=\"14.00\">count: 21907</text>\r\n</g>\r\n<!-- split1&#45;&gt;leaf1 -->\r\n<g id=\"edge2\" class=\"edge\">\r\n<title>split1&#45;&gt;leaf1</title>\r\n<path fill=\"none\" stroke=\"black\" d=\"M373.12,-85.74C386.78,-87.43 400.97,-89.19 414.46,-90.86\"/>\r\n<polygon fill=\"black\" stroke=\"black\" points=\"414.26,-94.36 424.62,-92.11 415.12,-87.41 414.26,-94.36\"/>\r\n<text text-anchor=\"middle\" x=\"393.5\" y=\"-92.26\" font-family=\"Times New Roman,serif\" font-size=\"14.00\">yes</text>\r\n</g>\r\n<!-- split2 -->\r\n<g id=\"node5\" class=\"node\">\r\n<title>split2</title>\r\n<polygon fill=\"none\" stroke=\"black\" points=\"556,-70.46 414,-70.46 414,-34.46 556,-34.46 556,-70.46\"/>\r\n<text text-anchor=\"start\" x=\"422\" y=\"-49.76\" font-family=\"Times New Roman,serif\" font-weight=\"bold\" font-size=\"14.00\">amount</text>\r\n<text text-anchor=\"start\" x=\"468\" y=\"-49.76\" font-family=\"Times New Roman,serif\" font-size=\"14.00\"> ≤ </text>\r\n<text text-anchor=\"start\" x=\"484\" y=\"-49.76\" font-family=\"Times New Roman,serif\" font-weight=\"bold\" font-size=\"14.00\">3024101.4</text>\r\n</g>\r\n<!-- split1&#45;&gt;split2 -->\r\n<g id=\"edge5\" class=\"edge\">\r\n<title>split1&#45;&gt;split2</title>\r\n<path fill=\"none\" stroke=\"black\" d=\"M373.12,-66.76C383.17,-65.47 393.52,-64.13 403.66,-62.82\"/>\r\n<polygon fill=\"black\" stroke=\"black\" points=\"404.25,-66.28 413.72,-61.52 403.35,-59.33 404.25,-66.28\"/>\r\n<text text-anchor=\"middle\" x=\"393.5\" y=\"-68.26\" font-family=\"Times New Roman,serif\" font-size=\"14.00\">no</text>\r\n</g>\r\n<!-- leaf2 -->\r\n<g id=\"node6\" class=\"node\">\r\n<title>leaf2</title>\r\n<ellipse fill=\"none\" stroke=\"black\" cx=\"659.93\" cy=\"-80.46\" rx=\"62.87\" ry=\"25.41\"/>\r\n<text text-anchor=\"start\" x=\"629.43\" y=\"-84.26\" font-family=\"Times New Roman,serif\" font-size=\"14.00\">leaf 2: </text>\r\n<text text-anchor=\"start\" x=\"666.43\" y=\"-84.26\" font-family=\"Times New Roman,serif\" font-weight=\"bold\" font-size=\"14.00\">&#45;0.0</text>\r\n<text text-anchor=\"start\" x=\"623.43\" y=\"-70.26\" font-family=\"Times New Roman,serif\" font-size=\"14.00\">count: 73319</text>\r\n</g>\r\n<!-- split2&#45;&gt;leaf2 -->\r\n<g id=\"edge3\" class=\"edge\">\r\n<title>split2&#45;&gt;leaf2</title>\r\n<path fill=\"none\" stroke=\"black\" d=\"M556.34,-63.84C567.91,-65.72 579.88,-67.66 591.38,-69.52\"/>\r\n<polygon fill=\"black\" stroke=\"black\" points=\"590.92,-72.99 601.35,-71.13 592.04,-66.08 590.92,-72.99\"/>\r\n<text text-anchor=\"middle\" x=\"576.5\" y=\"-71.26\" font-family=\"Times New Roman,serif\" font-size=\"14.00\">yes</text>\r\n</g>\r\n<!-- leaf3 -->\r\n<g id=\"node7\" class=\"node\">\r\n<title>leaf3</title>\r\n<ellipse fill=\"none\" stroke=\"black\" cx=\"659.93\" cy=\"-25.46\" rx=\"56.64\" ry=\"25.41\"/>\r\n<text text-anchor=\"start\" x=\"627.93\" y=\"-29.26\" font-family=\"Times New Roman,serif\" font-size=\"14.00\">leaf 3: </text>\r\n<text text-anchor=\"start\" x=\"664.93\" y=\"-29.26\" font-family=\"Times New Roman,serif\" font-weight=\"bold\" font-size=\"14.00\">18.7</text>\r\n<text text-anchor=\"start\" x=\"633.93\" y=\"-15.26\" font-family=\"Times New Roman,serif\" font-size=\"14.00\">count: 42</text>\r\n</g>\r\n<!-- split2&#45;&gt;leaf3 -->\r\n<g id=\"edge4\" class=\"edge\">\r\n<title>split2&#45;&gt;leaf3</title>\r\n<path fill=\"none\" stroke=\"black\" d=\"M556.34,-41.47C569.47,-39.42 583.12,-37.29 596.01,-35.28\"/>\r\n<polygon fill=\"black\" stroke=\"black\" points=\"596.83,-38.7 606.17,-33.69 595.75,-31.78 596.83,-38.7\"/>\r\n<text text-anchor=\"middle\" x=\"576.5\" y=\"-44.26\" font-family=\"Times New Roman,serif\" font-size=\"14.00\">no</text>\r\n</g>\r\n</g>\r\n</svg>\r\n",
      "text/plain": [
       "<graphviz.dot.Digraph at 0x1973300f2e0>"
      ]
     },
     "metadata": {},
     "execution_count": 14
    }
   ],
   "metadata": {}
  },
  {
   "cell_type": "markdown",
   "source": [
    "Create a digraph representation of the decision tree based on the old origin balance, new origin balance, and transaction amount."
   ],
   "metadata": {}
  },
  {
   "cell_type": "code",
   "execution_count": 15,
   "source": [
    "y_test_pred = gbm.predict(X_test)\r\n",
    "print('Validation AUC Score: {:.3%}'.format(roc_auc_score(y_test,y_test_pred)))"
   ],
   "outputs": [
    {
     "output_type": "stream",
     "name": "stdout",
     "text": [
      "Validation AUC Score: 95.798%\n"
     ]
    }
   ],
   "metadata": {}
  },
  {
   "cell_type": "markdown",
   "source": [
    "Predicting the value of isFraud for the testing sample and checking the predicted value with the existing values."
   ],
   "metadata": {}
  },
  {
   "cell_type": "code",
   "execution_count": 16,
   "source": [
    "print('Validation F1 Score: {:.3%}'.format(f1_score(y_test,y_test_pred>0.5)))"
   ],
   "outputs": [
    {
     "output_type": "stream",
     "name": "stdout",
     "text": [
      "Validation F1 Score: 50.934%\n"
     ]
    }
   ],
   "metadata": {}
  },
  {
   "cell_type": "markdown",
   "source": [
    "The F1 score can be interpreted as a weighted average of the precision and recall, where an F1 score reaches its best value at 1 and worst score at 0. The relative contribution of precision and recall to the F1 score are equal. The formula for the F1 score is:\r\n",
    "\r\n",
    "`F1 = 2 * (precision * recall) / (precision + recall)`"
   ],
   "metadata": {}
  },
  {
   "cell_type": "code",
   "execution_count": 17,
   "source": [
    "pd.crosstab(pd.cut(y_test_pred,np.arange(0,1.01,0.1)),y_test)"
   ],
   "outputs": [
    {
     "output_type": "execute_result",
     "data": {
      "text/html": [
       "<div>\n",
       "<style scoped>\n",
       "    .dataframe tbody tr th:only-of-type {\n",
       "        vertical-align: middle;\n",
       "    }\n",
       "\n",
       "    .dataframe tbody tr th {\n",
       "        vertical-align: top;\n",
       "    }\n",
       "\n",
       "    .dataframe thead th {\n",
       "        text-align: right;\n",
       "    }\n",
       "</style>\n",
       "<table border=\"1\" class=\"dataframe\">\n",
       "  <thead>\n",
       "    <tr style=\"text-align: right;\">\n",
       "      <th>isFraud</th>\n",
       "      <th>0</th>\n",
       "      <th>1</th>\n",
       "    </tr>\n",
       "    <tr>\n",
       "      <th>row_0</th>\n",
       "      <th></th>\n",
       "      <th></th>\n",
       "    </tr>\n",
       "  </thead>\n",
       "  <tbody>\n",
       "    <tr>\n",
       "      <th>(0.0, 0.1]</th>\n",
       "      <td>549813</td>\n",
       "      <td>1771</td>\n",
       "    </tr>\n",
       "    <tr>\n",
       "      <th>(0.1, 0.2]</th>\n",
       "      <td>2</td>\n",
       "      <td>344</td>\n",
       "    </tr>\n",
       "    <tr>\n",
       "      <th>(0.2, 0.3]</th>\n",
       "      <td>0</td>\n",
       "      <td>687</td>\n",
       "    </tr>\n",
       "    <tr>\n",
       "      <th>(0.9, 1.0]</th>\n",
       "      <td>7</td>\n",
       "      <td>1458</td>\n",
       "    </tr>\n",
       "  </tbody>\n",
       "</table>\n",
       "</div>"
      ],
      "text/plain": [
       "isFraud          0     1\n",
       "row_0                   \n",
       "(0.0, 0.1]  549813  1771\n",
       "(0.1, 0.2]       2   344\n",
       "(0.2, 0.3]       0   687\n",
       "(0.9, 1.0]       7  1458"
      ]
     },
     "metadata": {},
     "execution_count": 17
    }
   ],
   "metadata": {}
  },
  {
   "cell_type": "markdown",
   "source": [
    "For reference, a cross-tabulation is a two dimensional table that records the number of respondents that have the specific characteristics described in the cells of the table. Cross-tabulation tables provide a wealth of information about the relationship between the variables."
   ],
   "metadata": {}
  }
 ],
 "metadata": {
  "orig_nbformat": 4,
  "language_info": {
   "name": "python",
   "version": "3.9.2",
   "mimetype": "text/x-python",
   "codemirror_mode": {
    "name": "ipython",
    "version": 3
   },
   "pygments_lexer": "ipython3",
   "nbconvert_exporter": "python",
   "file_extension": ".py"
  },
  "kernelspec": {
   "name": "python3",
   "display_name": "Python 3.9.2 64-bit"
  },
  "interpreter": {
   "hash": "643bf4835c709e3966929777230a99028e7089a69da9bfb68a272af841179d55"
  }
 },
 "nbformat": 4,
 "nbformat_minor": 2
}